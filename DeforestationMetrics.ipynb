{
  "cells": [
    {
      "cell_type": "markdown",
      "metadata": {
        "id": "view-in-github",
        "colab_type": "text"
      },
      "source": [
        "<a href=\"https://colab.research.google.com/github/georgeportoferreira/Chapter1/blob/main/DeforestationMetrics.ipynb\" target=\"_parent\"><img src=\"https://colab.research.google.com/assets/colab-badge.svg\" alt=\"Open In Colab\"/></a>"
      ]
    },
    {
      "cell_type": "markdown",
      "metadata": {
        "id": "wtJ0tMH8hMkZ"
      },
      "source": [
        "**Information on Forest**\n",
        "\n",
        "Individualized approach for metrics on deforestation occurrences in global monitoring alerts - \"In Off, I am doing more alerts\""
      ]
    },
    {
      "cell_type": "code",
      "source": [
        "!pip install geemap"
      ],
      "metadata": {
        "id": "JyqYz0xvOvqx"
      },
      "execution_count": null,
      "outputs": []
    },
    {
      "cell_type": "code",
      "execution_count": null,
      "metadata": {
        "id": "ObfaaVzBu10i",
        "tags": []
      },
      "outputs": [],
      "source": [
        "import geemap\n",
        "import datetime"
      ]
    },
    {
      "cell_type": "code",
      "execution_count": null,
      "metadata": {
        "id": "Az3hfsc8iBL6",
        "tags": []
      },
      "outputs": [],
      "source": [
        "ee.Authenticate()"
      ]
    },
    {
      "cell_type": "code",
      "source": [
        "PROJECT = 'ee-georgeportoferreira'"
      ],
      "metadata": {
        "id": "JiRNES5CUluU"
      },
      "execution_count": null,
      "outputs": []
    },
    {
      "cell_type": "code",
      "source": [
        "PROJECT = 'ee-lfesta02'"
      ],
      "metadata": {
        "id": "vB3UeIbyUoqM"
      },
      "execution_count": null,
      "outputs": []
    },
    {
      "cell_type": "code",
      "execution_count": null,
      "metadata": {
        "id": "SM1PTRkviJhH",
        "tags": []
      },
      "outputs": [],
      "source": [
        "import ee\n",
        "ee.Authenticate()\n",
        "ee.Initialize(project=PROJECT)"
      ]
    },
    {
      "cell_type": "code",
      "source": [
        "roi = ee.Geometry.Polygon([-64, -9.5, -63.7, -9.5, -63.7, -9.7, -64, -9.7])\n",
        "# Define the region of interest (e.g., a bounding box)\n",
        "#roi = ee.Geometry.Rectangle([xmin, ymin, xmax, ymax])\n",
        "\n",
        "# Define the date range for the GLAD S2 data\n",
        "start_date = '2021-01-01'\n",
        "end_date = '2021-12-31'\n",
        "\n",
        "# Load the GLAD S2 data from Earth Engine\n",
        "glad_s2_data = ee.ImageCollection('projects/glad/alert/UpdResult').filterBounds(roi).filterDate(start_date, end_date)\n",
        "\n",
        "# Print the GLAD S2 data information\n",
        "print(glad_s2_data.getInfo())"
      ],
      "metadata": {
        "id": "9gXNcuBPRi9h"
      },
      "execution_count": null,
      "outputs": []
    },
    {
      "cell_type": "code",
      "execution_count": null,
      "metadata": {
        "id": "m1TNAkGra-FT",
        "tags": []
      },
      "outputs": [],
      "source": [
        "# Create Filter alert date\n",
        "max_pixel_age = 4.5 #years\n",
        "oldest_pixel_date = ee.Date(datetime.datetime.now()).advance(-max_pixel_age, 'year') # alerts 4 years and half old (54 months)\n",
        "reference_date = ee.Date('2014-12-31') # RADD reference date\n",
        "outdated_trashold = ee.Number(oldest_pixel_date.difference(reference_date, 'days')).round()"
      ]
    },
    {
      "cell_type": "code",
      "execution_count": null,
      "metadata": {
        "id": "k4TGd3ZKiLvv",
        "tags": []
      },
      "outputs": [],
      "source": [
        "# Area of interest\n",
        "#aoi = ee.FeatureCollection('FAO/GAUL_SIMPLIFIED_500m/2015/level0').filter('ADM0_NAME == \"Brazil\"').geometry()\n",
        "#aoi = ee.FeatureCollection('FAO/GAUL/2015/level1').filter('ADM1_NAME == \"Amazonas\"').geometry()\n",
        "#aoi = ee.FeatureCollection('FAO/GAUL/2015/level2').filter('ADM2_NAME == \"Porto Velho\"').geometry()\n",
        "aoi = ee.Geometry.Polygon([-64, -9.5, -63.7, -9.5, -63.7, -9.7, -64, -9.7])\n",
        "\n",
        "# WUR Radar Alerts https://www.wur.nl/en/research-results/chair-groups/environmental-sciences/laboratory-of-geo-information-science-and-remote-sensing/research/sensing-measuring/radd-forest-disturbance-alert.htm\n",
        "radd_alert = (\n",
        "    ee.Image(\n",
        "        ee.ImageCollection('projects/radar-wur/raddalert/v1').filterMetadata('layer','contains','alert')\n",
        "        .filterMetadata('geography','equals','sa')\n",
        "        .sort('system:time_end', False)\n",
        "        .first()\n",
        "    )\n",
        "    .clip(aoi)\n",
        "    .select('Date')\n",
        ")\n",
        "\n",
        "# GLAD Optical Alerts https://glad-forest-alert.appspot.com/\n",
        "#glad_alert = ee.Image('projects/glad/alert/UpdResult/10_20_SA').select('alertDate23').clip(aoi)"
      ]
    },
    {
      "cell_type": "code",
      "execution_count": null,
      "metadata": {
        "id": "vY5CMaY0G7MS",
        "tags": []
      },
      "outputs": [],
      "source": [
        "pixelTreshold = 100 # 100 pixels ~ 1 hectare\n",
        "confidence = radd_alert.divide(10000).int() # Confidence Raster\n",
        "radd_alert_date = radd_alert.subtract(confidence.multiply(10000)) #Update pixel values to keep only date\n",
        "mascara_old = radd_alert_date.gt(outdated_trashold) # Mask old deforestation\n",
        "mascara_old = mascara_old.updateMask(mascara_old)\n",
        "mascara_small = mascara_old.connectedPixelCount(1024).gt(pixelTreshold)\n",
        "mascara_small = mascara_small.updateMask(mascara_small)\n",
        "radd_alert_id = mascara_small.connectedComponents(ee.Kernel.square(1), 1024)"
      ]
    },
    {
      "cell_type": "code",
      "execution_count": null,
      "metadata": {
        "id": "0uEwvwkMhLdi",
        "tags": []
      },
      "outputs": [],
      "source": [
        "deforestation = radd_alert_id.select('labels').reduceToVectors(bestEffort = True)"
      ]
    },
    {
      "cell_type": "code",
      "execution_count": null,
      "metadata": {
        "tags": [],
        "id": "VDkpwtCBJ9w_"
      },
      "outputs": [],
      "source": [
        "minMaxDateDeforestation = radd_alert_date.reduceRegions(\n",
        "    collection=deforestation,\n",
        "    reducer=ee.Reducer.minMax(),\n",
        "    scale=10,  # meters\n",
        "    crs='EPSG:4326',\n",
        ")"
      ]
    },
    {
      "cell_type": "code",
      "execution_count": null,
      "metadata": {
        "tags": [],
        "id": "MEmEI7VHJ9w_"
      },
      "outputs": [],
      "source": [
        "def metrics_generation(feature):\n",
        "  max_d = feature.get('max')\n",
        "  min_d = feature.get('min')\n",
        "  area_ha = ee.Number(feature.get('count')).divide(1000)\n",
        "  persistence = ee.Number(max_d).subtract(min_d)\n",
        "  isdo = ee.Number(area_ha).divide(persistence)\n",
        "  min_date = ee.Date('2014-12-31').advance(min_d, 'days').format(\"YYYY-MM-dd\")\n",
        "  max_date = ee.Date('2014-12-31').advance(max_d, 'days').format(\"YYYY-MM-dd\")\n",
        "  return feature.set('persistence', persistence).set('area_ha', area_ha).set('persistence', persistence).set('isdo', isdo).set('min_date', min_date).set('max_date', max_date)\n",
        "\n",
        "minMaxDateDeforestation = minMaxDateDeforestation.map(metrics_generation)"
      ]
    },
    {
      "cell_type": "code",
      "execution_count": null,
      "metadata": {
        "tags": [],
        "id": "-TTBP0xoJ9w_"
      },
      "outputs": [],
      "source": [
        "def age_generation(feature):\n",
        "  md = feature.get('max_date')\n",
        "  age_weeks = ee.Date(datetime.datetime.now()).difference(ee.Date(md), 'week').round()\n",
        "  # Add the difference as a new property\n",
        "  return feature.set('age_weeks', age_weeks)\n",
        "\n",
        "minMaxDateDeforestation = minMaxDateDeforestation.map(age_generation)"
      ]
    },
    {
      "cell_type": "code",
      "execution_count": null,
      "metadata": {
        "tags": [],
        "id": "kNXtjMMkJ9xA"
      },
      "outputs": [],
      "source": [
        "geemap.ee_export_vector_to_drive(\n",
        "    minMaxDateDeforestation, description=\"teste\", fileFormat='GeoJSON', folder=\"GEE_exports\"\n",
        ")"
      ]
    },
    {
      "cell_type": "code",
      "execution_count": null,
      "metadata": {
        "tags": [],
        "id": "RmXOfq9MJ9xA"
      },
      "outputs": [],
      "source": [
        "geemap.ee_export_image_to_drive(\n",
        "    radd_alert_date.toUint16(), description='radd_alert_date', folder='GEE_exports', region=aoi, scale=10\n",
        ")"
      ]
    },
    {
      "cell_type": "code",
      "execution_count": null,
      "metadata": {
        "id": "TrhwbZOC46fA",
        "tags": []
      },
      "outputs": [],
      "source": [
        "m = geemap.Map(height=800)"
      ]
    },
    {
      "cell_type": "code",
      "execution_count": null,
      "metadata": {
        "id": "visFSjfD49G2",
        "tags": []
      },
      "outputs": [],
      "source": [
        "m.addLayer(radd_alert_date.mask(radd_alert_date), {}, 'radd_alert_date')\n",
        "m.addLayer(radd_alert.mask(radd_alert), {}, 'radd_alert')\n",
        "m.addLayer(minMaxDateDeforestation, {}, 'Deforestation')"
      ]
    },
    {
      "cell_type": "code",
      "execution_count": null,
      "metadata": {
        "collapsed": true,
        "id": "89rRGV0B6C1j",
        "jupyter": {
          "outputs_hidden": true
        },
        "tags": []
      },
      "outputs": [],
      "source": [
        "m.center_object(aoi)\n",
        "m"
      ]
    },
    {
      "cell_type": "code",
      "execution_count": null,
      "metadata": {
        "id": "A6WDoS-0J9xJ"
      },
      "outputs": [],
      "source": []
    }
  ],
  "metadata": {
    "colab": {
      "provenance": [],
      "include_colab_link": true
    },
    "kernelspec": {
      "display_name": "Python 3 (ipykernel)",
      "language": "python",
      "name": "python3"
    },
    "language_info": {
      "codemirror_mode": {
        "name": "ipython",
        "version": 3
      },
      "file_extension": ".py",
      "mimetype": "text/x-python",
      "name": "python",
      "nbconvert_exporter": "python",
      "pygments_lexer": "ipython3",
      "version": "3.11.3"
    }
  },
  "nbformat": 4,
  "nbformat_minor": 0
}